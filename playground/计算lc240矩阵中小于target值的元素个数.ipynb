{
 "cells": [
  {
   "cell_type": "code",
   "execution_count": null,
   "id": "91a452ae",
   "metadata": {},
   "outputs": [],
   "source": [
    "def f(self, matrix, target):\n",
    "        cnt = 0\n",
    "        j = len(matrix[0])-1\n",
    "        for i in range(len(matrix)):\n",
    "            while j > -1 and matrix[i][j] >= target:\n",
    "                j -= 1\n",
    "            cnt += j+1\n",
    "        return cnt  \n",
    "\n",
    "input = "
   ]
  }
 ],
 "metadata": {
  "kernelspec": {
   "display_name": "Python 3 (ipykernel)",
   "language": "python",
   "name": "python3"
  },
  "language_info": {
   "codemirror_mode": {
    "name": "ipython",
    "version": 3
   },
   "file_extension": ".py",
   "mimetype": "text/x-python",
   "name": "python",
   "nbconvert_exporter": "python",
   "pygments_lexer": "ipython3",
   "version": "3.10.12"
  }
 },
 "nbformat": 4,
 "nbformat_minor": 5
}
