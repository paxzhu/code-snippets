{
 "cells": [
  {
   "cell_type": "code",
   "execution_count": 3,
   "id": "874eff23",
   "metadata": {},
   "outputs": [],
   "source": [
    "from operator import add, sub, mul, floordiv \n",
    "from typing import Tuple, List, Union\n",
    "from math import sin, cos\n",
    "\n",
    "OP_FUNC = {\n",
    "    '+': add,\n",
    "    '-': sub,\n",
    "    '*': mul,\n",
    "    '/': floordiv,\n",
    "    \"sin\": sin,\n",
    "    \"cos\": cos\n",
    "}\n",
    "\n",
    "PRIORITY_MAP = {\n",
    "    '#': 0,\n",
    "    '+': 1,\n",
    "    '-': 1,\n",
    "    '*': 2,\n",
    "    '/': 2\n",
    "}\n",
    "\n",
    "def parse_num(s: str, i: int) -> Tuple[int]: # 进制式解析数字\n",
    "    num = 0\n",
    "    while s[i].isnumeric():\n",
    "        num = 10*num + int(s[i])\n",
    "        i += 1\n",
    "    return num, i\n",
    "\n",
    "def parse_func(s, i): # 获得函数名称，作为一元运算符\n",
    "    j = i+1\n",
    "    while s[j].islower():\n",
    "        j += 1\n",
    "    return s[i:j], j \n",
    "\n",
    "def cal(nums: List[int], ops: List[str]) -> None:\n",
    "    op = ops.pop() # 取出操作符\n",
    "        # 取出参与计算的两个数字\n",
    "    num2, num1 = nums.pop(), nums.pop()\n",
    "    res = OP_FUNC[op](num1, num2) # 根据操作符调用对应的运算函数\n",
    "    nums.append(res)\n",
    "\n",
    "def eval_tokens(tokens: List):\n",
    "#     print(tokens)\n",
    "    tokens.append('#')  # '#'的优先级最低，用以保证'#'之前的计算全部完成\n",
    "    i = 0\n",
    "    nums, ops = [], []\n",
    "    for elem in tokens:\n",
    "        if elem not in PRIORITY_MAP:\n",
    "            nums.append(elem)\n",
    "        else:\n",
    "            # 操作符的单调栈（栈内操作符优先级递增）\n",
    "            while ops and PRIORITY_MAP[ops[-1]] >= PRIORITY_MAP[elem]:\n",
    "                cal(nums, ops)\n",
    "            ops.append(elem)\n",
    "    return nums.pop()\n",
    "\n",
    "def parse_expr(s: str, i: int) -> int:\n",
    "    tokens = []\n",
    "    if s[i] == '-': \n",
    "        tokens = [0] # 如果当前表达式第一个数是负数，通过加0，表达式就转换为了正数的计算\n",
    "    while s[i] != ')': \n",
    "        if s[i] == '(': # 解括号，将问题转换为不含括号的表达式\n",
    "            i += 1 # 吃掉 '('\n",
    "            elem, i = parse_expr(s, i)\n",
    "            i += 1 # 吃掉 ')'\n",
    "        elif s[i].isnumeric():\n",
    "            elem, i = parse_num(s, i)\n",
    "        elif s[i].islower(): # 检查函数\n",
    "            op, i = parse_func(s, i)\n",
    "            assert s[i] == '('\n",
    "            i += 1 # '('\n",
    "            num, i = parse_expr(s, i)\n",
    "            assert s[i] == ')'\n",
    "            i += 1 # ')'\n",
    "            elem = OP_FUNC[op](num)\n",
    "        else:\n",
    "            elem = s[i]\n",
    "            i += 1 # 吃掉运算符\n",
    "        tokens.append(elem)\n",
    "    return eval_tokens(tokens), i # 解括号后 计算子表达式的值\n",
    "\n",
    "def calculate(s: str) -> int:\n",
    "    s = s.replace(' ', '') + ')' # 通过补')'可以合并条件判断，从而不用写i < len(s)\n",
    "    return parse_expr(s, 0)[0]\n",
    "\n",
    "class TestCalculator():\n",
    "    def test_eval_tokens():\n",
    "        tokens = [7, '+', 45, '*', 2]\n",
    "        assert eval_expr(tokens) == 97\n",
    "        tokens = [1, 1, 1 ,1]\n",
    "        assert 4 == eval_tokens(tokens)\n",
    "        tokens = []\n",
    "        raise eval_tokens(tokens)\n",
    "    \n",
    "    def test_parse_expr():\n",
    "        s = \"0+3*4/(5-6)\"\n",
    "        assert parse_expr(s) == (-12, 11)\n",
    "        s = \"0+3*4/(6-6)\"\n",
    "        raise parse_expr(s) \n",
    "    \n",
    "    def test_cal():\n",
    "        ops = []\n",
    "        nums = []\n",
    "        raise cal(nums, ops)\n",
    "    \n",
    "    def test_parse_func():\n",
    "        s = \"124cal\"\n",
    "        assert (\"cal\", 6) == parse_func(s, 3)\n",
    "        s = \"sin()\"\n",
    "        assert (\"sin\", 3) == parse_func(s, 0)\n",
    "    \n",
    "    def test_parse_num():\n",
    "        s = \"1023+2\"\n",
    "        assert (1023, 4) == parse_num(s, 0)\n",
    "        s = \"\"\n",
    "        assert (0, 0) == parse_num(s, 0)\n",
    "    "
   ]
  },
  {
   "cell_type": "code",
   "execution_count": 4,
   "id": "225de237",
   "metadata": {},
   "outputs": [
    {
     "name": "stdout",
     "output_type": "stream",
     "text": [
      "[10, '+', 3, '*', 4]\n",
      "[1, '+', 3, '+', 4, '*', -0.008851309290403876]\n"
     ]
    },
    {
     "data": {
      "text/plain": [
       "3.9645947628383844"
      ]
     },
     "execution_count": 4,
     "metadata": {},
     "output_type": "execute_result"
    }
   ],
   "source": [
    "s = \"1+3+4*sin(10+3*4)\"\n",
    "calculate(s) "
   ]
  },
  {
   "cell_type": "code",
   "execution_count": 13,
   "id": "a75bcb6c",
   "metadata": {},
   "outputs": [
    {
     "name": "stdout",
     "output_type": "stream",
     "text": [
      "[4, '*', -0.0088]\n"
     ]
    },
    {
     "data": {
      "text/plain": [
       "-0.0352"
      ]
     },
     "execution_count": 13,
     "metadata": {},
     "output_type": "execute_result"
    }
   ],
   "source": [
    "tokens = [4, '*', -0.0088]\n",
    "eval_tokens(tokens)"
   ]
  },
  {
   "cell_type": "code",
   "execution_count": 14,
   "id": "f9831292",
   "metadata": {},
   "outputs": [
    {
     "name": "stdout",
     "output_type": "stream",
     "text": [
      "[1]\n",
      "[0.8414709848078965, '*', 6]\n"
     ]
    },
    {
     "data": {
      "text/plain": [
       "5.048825908847379"
      ]
     },
     "execution_count": 14,
     "metadata": {},
     "output_type": "execute_result"
    }
   ],
   "source": [
    "s = \"sin(1)*6\"\n",
    "calculate(s)"
   ]
  },
  {
   "cell_type": "code",
   "execution_count": 15,
   "id": "8a00a954",
   "metadata": {},
   "outputs": [],
   "source": [
    "from operator import add, sub, mul, floordiv \n",
    "from typing import Tuple, List, Union\n",
    "from math import sin, cos\n",
    "\n",
    "OP_FUNC = {\n",
    "    '+': add,\n",
    "    '-': sub,\n",
    "    '*': mul,\n",
    "    '/': floordiv,\n",
    "    \"sin\": sin,\n",
    "    \"cos\": cos\n",
    "}\n",
    "\n",
    "PRIORITY_MAP = {\n",
    "    '#': 0,\n",
    "    '+': 1,\n",
    "    '-': 1,\n",
    "    '*': 2,\n",
    "    '/': 2,\n",
    "    \"sin\": 3,\n",
    "    \"cos\": 3\n",
    "}\n",
    "\n",
    "EXPECTED_ARGS = {\n",
    "    '+': 2,\n",
    "    '-': 2,\n",
    "    '*': 2,\n",
    "    '/': 2,\n",
    "    \"sin\": 1,\n",
    "    \"cos\": 1\n",
    "}\n",
    "\n",
    "def parse_num(s: str, i: int) -> Tuple[int, int]: # 进制式解析数字\n",
    "    num = 0\n",
    "    while s[i].isnumeric():\n",
    "        num = 10*num + int(s[i])\n",
    "        i += 1\n",
    "    return num, i\n",
    "\n",
    "def parse_func(s, i): # 获得函数名称，作为一元运算符\n",
    "    j = i+1\n",
    "    while s[j].islower():\n",
    "        j += 1\n",
    "    return s[i:j], j \n",
    "\n",
    "def cal(nums: List[int], ops: List[str]) -> None:\n",
    "    op = ops.pop() # 取出操作符\n",
    "    if EXPECTED_ARGS[op] == 1:\n",
    "        num = nums.pop()\n",
    "        res = OP_FUNC[op](num)\n",
    "        nums.append(res)\n",
    "    elif EXPECTED_ARGS[op] == 2:\n",
    "        # 取出参与计算的两个数字\n",
    "        num2, num1 = nums.pop(), nums.pop()\n",
    "        res = OP_FUNC[op](num1, num2) # 根据操作符调用对应的运算函数\n",
    "        nums.append(res)\n",
    "\n",
    "def eval_tokens(tokens: List[Union[int, str]]) -> int:\n",
    "    print(tokens)\n",
    "    tokens.append('#')  # '#'的优先级最低，用以保证'#'之前的计算全部完成\n",
    "    i = 0\n",
    "    nums, ops = [], []\n",
    "    for elem in tokens:\n",
    "        if type(elem) == int:\n",
    "            nums.append(elem)\n",
    "        else:\n",
    "            # 操作符的单调栈（栈内操作符优先级递增）\n",
    "            while ops and PRIORITY_MAP[ops[-1]] >= PRIORITY_MAP[elem]:\n",
    "                cal(nums, ops)\n",
    "            ops.append(elem)\n",
    "    return nums.pop()\n",
    "\n",
    "def parse_expr(s: str, i: int) -> int:\n",
    "    tokens = []\n",
    "    if s[i] == '-': \n",
    "        tokens = [0] # 如果当前表达式第一个数是负数，通过加0，表达式就转换为了正数的计算\n",
    "    while s[i] != ')': \n",
    "        if s[i] == '(': # 解括号，将问题转换为不含括号的表达式\n",
    "            i += 1 # 吃掉 '('\n",
    "            elem, i = parse_expr(s, i)\n",
    "            i += 1 # 吃掉 ')'\n",
    "        elif s[i].isnumeric():\n",
    "            elem, i = parse_num(s, i)\n",
    "        elif s[i].islower(): # 检查函数\n",
    "            elem, i = parse_func(s, i)\n",
    "        else:\n",
    "            elem = s[i]\n",
    "            i += 1 # 吃掉运算符\n",
    "        tokens.append(elem)\n",
    "    return eval_tokens(tokens), i # 解括号后 计算子表达式的值\n",
    "\n",
    "def calculate(s: str) -> int:\n",
    "    s = s.replace(' ', '') + ')' # 通过补')'可以合并条件判断，从而不用写i < len(s)\n",
    "    return parse_expr(s, 0)[0]\n"
   ]
  },
  {
   "cell_type": "code",
   "execution_count": 16,
   "id": "22b442ed",
   "metadata": {},
   "outputs": [
    {
     "name": "stdout",
     "output_type": "stream",
     "text": [
      "[1]\n",
      "['sin', 1, '*', 6]\n"
     ]
    },
    {
     "data": {
      "text/plain": [
       "5.048825908847379"
      ]
     },
     "execution_count": 16,
     "metadata": {},
     "output_type": "execute_result"
    }
   ],
   "source": [
    "s = \"sin(1)*6\"\n",
    "calculate(s)"
   ]
  },
  {
   "cell_type": "code",
   "execution_count": null,
   "id": "828764aa",
   "metadata": {},
   "outputs": [],
   "source": []
  }
 ],
 "metadata": {
  "kernelspec": {
   "display_name": "Python 3 (ipykernel)",
   "language": "python",
   "name": "python3"
  },
  "language_info": {
   "codemirror_mode": {
    "name": "ipython",
    "version": 3
   },
   "file_extension": ".py",
   "mimetype": "text/x-python",
   "name": "python",
   "nbconvert_exporter": "python",
   "pygments_lexer": "ipython3",
   "version": "3.10.12"
  }
 },
 "nbformat": 4,
 "nbformat_minor": 5
}
