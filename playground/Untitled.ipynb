{
 "cells": [
  {
   "cell_type": "code",
   "execution_count": 5,
   "id": "5d5a2145",
   "metadata": {},
   "outputs": [],
   "source": [
    "def pre_sum(nums):\n",
    "    presum = [0]*(len(nums)+1)\n",
    "    for i, num in enumerate(nums):\n",
    "        presum[i+1] = presum[i] + num\n",
    "    return presum\n",
    "\n",
    "def find_max_avg(nums, k):\n",
    "    presum = pre_sum(nums)\n",
    "    res = presum[k] / k\n",
    "    for length in range(k, len(nums)+1):\n",
    "        cur_max = presum[length]\n",
    "        for end in range(length, len(nums)+1):\n",
    "            cur_max = max(cur_max, presum[end]-presum[end-length])\n",
    "        res = max(res, cur_max/length)\n",
    "    return res"
   ]
  },
  {
   "cell_type": "code",
   "execution_count": 6,
   "id": "4f679be1",
   "metadata": {},
   "outputs": [
    {
     "data": {
      "text/plain": [
       "12.75"
      ]
     },
     "execution_count": 6,
     "metadata": {},
     "output_type": "execute_result"
    }
   ],
   "source": [
    "nums = [1,12,-5,-6,50,3]\n",
    "k = 4\n",
    "find_max_avg(nums, k)"
   ]
  },
  {
   "cell_type": "code",
   "execution_count": null,
   "id": "c8e147c2",
   "metadata": {},
   "outputs": [],
   "source": []
  }
 ],
 "metadata": {
  "kernelspec": {
   "display_name": "Python 3 (ipykernel)",
   "language": "python",
   "name": "python3"
  },
  "language_info": {
   "codemirror_mode": {
    "name": "ipython",
    "version": 3
   },
   "file_extension": ".py",
   "mimetype": "text/x-python",
   "name": "python",
   "nbconvert_exporter": "python",
   "pygments_lexer": "ipython3",
   "version": "3.10.12"
  }
 },
 "nbformat": 4,
 "nbformat_minor": 5
}
